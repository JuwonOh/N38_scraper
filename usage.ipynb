{
 "cells": [
  {
   "cell_type": "code",
   "execution_count": 1,
   "metadata": {
    "scrolled": false
   },
   "outputs": [
    {
     "name": "stdout",
     "output_type": "stream",
     "text": [
      "get briefing statement urls 1 / 4\n",
      "get briefing statement urls 2 / 4\n",
      "get briefing statement urls 3 / 4\n",
      "get briefing statement urls 4 / 4\n",
      "16 urls for all news\n"
     ]
    }
   ],
   "source": [
    "import time\n",
    "import N38_scraper\n",
    "from N38_scraper import get_allnews_urls\n",
    "from N38_scraper import parse_page\n",
    "\n",
    "urls = get_allnews_urls(begin_page=1, end_page=4, verbose=True)\n",
    "print('%d urls for all news' % len(urls))"
   ]
  },
  {
   "cell_type": "code",
   "execution_count": 2,
   "metadata": {
    "scrolled": true
   },
   "outputs": [
    {
     "name": "stdout",
     "output_type": "stream",
     "text": [
      "title : How Vietnam’s Transition Experience May be Helpful for North Korea Today ..\n",
      "time : February 7, 2019 ..\n",
      "author : Bradley O. Babson ..\n",
      "content : The recent visit of the DPRK’s Foreign Minister Ri Yong Ho to Hanoi and the announcement that Vietna ..\n",
      "url : https://www.38north.org/2019/02/bbabson020719/ ..\n",
      "scrap_time : 2019-02-10-05 05:05:50 ..\n",
      "\n",
      "\n",
      "title : Misreporting the Trump Administration’s Boffo Break with the Failed North Korea Policy of the Past ..\n",
      "time : February 5, 2019 ..\n",
      "author : Leon V. Sigal ..\n",
      "content : The US Special Representative for North Korea Stephen R. Biegun broke important new ground on admini ..\n",
      "url : https://www.38north.org/2019/02/lsigal020519/ ..\n",
      "scrap_time : 2019-02-10-05 05:05:51 ..\n",
      "\n",
      "\n",
      "title : China’s Sanctions Enforcement and Fuel Prices in North Korea: What the Data Tells Us ..\n",
      "time : February 1, 2019 ..\n",
      "author : Benjamin Katzeff Silberstein ..\n",
      "content : China is by far North Korea’s largest trading partner, accounting for up to 90 percent of its trade  ..\n",
      "url : https://www.38north.org/2019/02/bkatzeffsilberstein020119/ ..\n",
      "scrap_time : 2019-02-10-05 05:05:51 ..\n",
      "\n",
      "\n",
      "title : Preparing for a “Decent Chance” of Success and Failure with North Korea ..\n",
      "time : February 1, 2019 ..\n",
      "author : Patrick M. Cronin ..\n",
      "content : In a presidential tweet on Wednesday, President Donald Trump sounded cautiously hopeful regarding ne ..\n",
      "url : https://www.38north.org/2019/02/pcroninklee020119/ ..\n",
      "scrap_time : 2019-02-10-05 05:05:53 ..\n",
      "\n",
      "\n",
      "title : Let’s Get Perspective ..\n",
      "time : January 31, 2019 ..\n",
      "author : Joel S. Wit ..\n",
      "content : Dan Coats, the Director of National Intelligence, made big news this week with a series of assertion ..\n",
      "url : https://www.38north.org/2019/01/jwit013119/ ..\n",
      "scrap_time : 2019-02-10-05 05:05:53 ..\n",
      "\n",
      "\n",
      "title : Why We Should be Skeptical About Recent Reports on North Korea’s Biological Weapons Programs ..\n",
      "time : January 30, 2019 ..\n",
      "author : John Parachini ..\n",
      "content : While the use of biological weapons (BW) can have great consequences and any state having them in th ..\n",
      "url : https://www.38north.org/2019/01/jparachini013019/ ..\n",
      "scrap_time : 2019-02-10-05 05:05:54 ..\n",
      "\n",
      "\n",
      "title : Reports of “Secret” North Korean Missile Bases: Much Ado about Not Much ..\n",
      "time : January 28, 2019 ..\n",
      "author : Daniel R. DePetris ..\n",
      "content : President Trump and North Korean leader Kim Jong Un have now agreed to meet for their second summit  ..\n",
      "url : https://www.38north.org/2019/01/ddepetris012819/ ..\n",
      "scrap_time : 2019-02-10-05 05:05:55 ..\n",
      "\n",
      "\n",
      "('Connection aborted.', OSError(\"(10054, 'WSAECONNRESET')\"))\n",
      "Parsing error from https://www.38north.org/2019/01/jchurch012319/\n"
     ]
    },
    {
     "ename": "AttributeError",
     "evalue": "'NoneType' object has no attribute 'items'",
     "output_type": "error",
     "traceback": [
      "\u001b[1;31m---------------------------------------------------------------------------\u001b[0m",
      "\u001b[1;31mAttributeError\u001b[0m                            Traceback (most recent call last)",
      "\u001b[1;32m<ipython-input-2-86806d7fdb70>\u001b[0m in \u001b[0;36m<module>\u001b[1;34m\u001b[0m\n\u001b[0;32m      8\u001b[0m \u001b[1;32mfor\u001b[0m \u001b[0murl\u001b[0m \u001b[1;32min\u001b[0m \u001b[0murls\u001b[0m\u001b[1;33m[\u001b[0m\u001b[1;33m:\u001b[0m\u001b[1;36m10\u001b[0m\u001b[1;33m]\u001b[0m\u001b[1;33m:\u001b[0m\u001b[1;33m\u001b[0m\u001b[1;33m\u001b[0m\u001b[0m\n\u001b[0;32m      9\u001b[0m     \u001b[0mjson_object\u001b[0m \u001b[1;33m=\u001b[0m \u001b[0mparse_page\u001b[0m\u001b[1;33m(\u001b[0m\u001b[0murl\u001b[0m\u001b[1;33m)\u001b[0m\u001b[1;33m\u001b[0m\u001b[1;33m\u001b[0m\u001b[0m\n\u001b[1;32m---> 10\u001b[1;33m     \u001b[0mpprint\u001b[0m\u001b[1;33m(\u001b[0m\u001b[0mjson_object\u001b[0m\u001b[1;33m)\u001b[0m\u001b[1;33m\u001b[0m\u001b[1;33m\u001b[0m\u001b[0m\n\u001b[0m",
      "\u001b[1;32m<ipython-input-2-86806d7fdb70>\u001b[0m in \u001b[0;36mpprint\u001b[1;34m(json_object)\u001b[0m\n\u001b[0;32m      1\u001b[0m \u001b[1;32mdef\u001b[0m \u001b[0mpprint\u001b[0m\u001b[1;33m(\u001b[0m\u001b[0mjson_object\u001b[0m\u001b[1;33m)\u001b[0m\u001b[1;33m:\u001b[0m\u001b[1;33m\u001b[0m\u001b[1;33m\u001b[0m\u001b[0m\n\u001b[1;32m----> 2\u001b[1;33m     \u001b[1;32mfor\u001b[0m \u001b[0mk\u001b[0m\u001b[1;33m,\u001b[0m \u001b[0mv\u001b[0m \u001b[1;32min\u001b[0m \u001b[0mjson_object\u001b[0m\u001b[1;33m.\u001b[0m\u001b[0mitems\u001b[0m\u001b[1;33m(\u001b[0m\u001b[1;33m)\u001b[0m\u001b[1;33m:\u001b[0m\u001b[1;33m\u001b[0m\u001b[1;33m\u001b[0m\u001b[0m\n\u001b[0m\u001b[0;32m      3\u001b[0m         \u001b[0mprint\u001b[0m\u001b[1;33m(\u001b[0m\u001b[1;34m'{} : {} ..'\u001b[0m\u001b[1;33m.\u001b[0m\u001b[0mformat\u001b[0m\u001b[1;33m(\u001b[0m\u001b[0mk\u001b[0m\u001b[1;33m,\u001b[0m \u001b[0mstr\u001b[0m\u001b[1;33m(\u001b[0m\u001b[0mv\u001b[0m\u001b[1;33m)\u001b[0m\u001b[1;33m[\u001b[0m\u001b[1;33m:\u001b[0m\u001b[1;36m100\u001b[0m\u001b[1;33m]\u001b[0m\u001b[1;33m)\u001b[0m\u001b[1;33m)\u001b[0m\u001b[1;33m\u001b[0m\u001b[1;33m\u001b[0m\u001b[0m\n\u001b[0;32m      4\u001b[0m     \u001b[0mprint\u001b[0m\u001b[1;33m(\u001b[0m\u001b[1;34m'\\n'\u001b[0m\u001b[1;33m)\u001b[0m\u001b[1;33m\u001b[0m\u001b[1;33m\u001b[0m\u001b[0m\n\u001b[0;32m      5\u001b[0m \u001b[1;33m\u001b[0m\u001b[0m\n",
      "\u001b[1;31mAttributeError\u001b[0m: 'NoneType' object has no attribute 'items'"
     ]
    }
   ],
   "source": [
    "def pprint(json_object):\n",
    "    for k, v in json_object.items():\n",
    "        print('{} : {} ..'.format(k, str(v)[:100]))\n",
    "    print('\\n')\n",
    "\n",
    "SLEEP = 0.5\n",
    "\n",
    "for url in urls[:10]:\n",
    "    json_object = parse_page(url)\n",
    "    pprint(json_object)"
   ]
  },
  {
   "cell_type": "code",
   "execution_count": null,
   "metadata": {
    "scrolled": true
   },
   "outputs": [],
   "source": [
    "from N38_scraper import yield_latest_allnews\n",
    "\n",
    "begin_date = '2019-01-10'\n",
    "max_num = 50\n",
    "sleep = 1.0\n",
    "\n",
    "for i, json_obj in enumerate(yield_latest_allnews(begin_date, max_num, sleep)):\n",
    "    title = json_obj['title']\n",
    "    time = json_obj['time']\n",
    "    print('[{} / {}] ({}) {}'.format(i+1, max_num, time, title))"
   ]
  }
 ],
 "metadata": {
  "kernelspec": {
   "display_name": "Python 3",
   "language": "python",
   "name": "python3"
  },
  "language_info": {
   "codemirror_mode": {
    "name": "ipython",
    "version": 3
   },
   "file_extension": ".py",
   "mimetype": "text/x-python",
   "name": "python",
   "nbconvert_exporter": "python",
   "pygments_lexer": "ipython3",
   "version": "3.7.1"
  },
  "varInspector": {
   "cols": {
    "lenName": 16,
    "lenType": 16,
    "lenVar": 40
   },
   "kernels_config": {
    "python": {
     "delete_cmd_postfix": "",
     "delete_cmd_prefix": "del ",
     "library": "var_list.py",
     "varRefreshCmd": "print(var_dic_list())"
    },
    "r": {
     "delete_cmd_postfix": ") ",
     "delete_cmd_prefix": "rm(",
     "library": "var_list.r",
     "varRefreshCmd": "cat(var_dic_list()) "
    }
   },
   "oldHeight": 122.545454,
   "position": {
    "height": "40px",
    "left": "1139.36px",
    "right": "20px",
    "top": "121px",
    "width": "249px"
   },
   "types_to_exclude": [
    "module",
    "function",
    "builtin_function_or_method",
    "instance",
    "_Feature"
   ],
   "varInspector_section_display": "none",
   "window_display": true
  }
 },
 "nbformat": 4,
 "nbformat_minor": 2
}
