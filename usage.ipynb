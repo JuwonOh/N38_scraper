{
 "cells": [
  {
   "cell_type": "code",
   "execution_count": 1,
   "metadata": {
    "scrolled": false
   },
   "outputs": [
    {
     "name": "stdout",
     "output_type": "stream",
     "text": [
      "get briefing statement urls 1 / 3\n",
      "get briefing statement urls 2 / 3\n",
      "get briefing statement urls 3 / 3\n",
      "12 urls for all news\n"
     ]
    }
   ],
   "source": [
    "import time\n",
    "import N38_scraper\n",
    "from N38_scraper import get_allnews_urls\n",
    "from N38_scraper import parse_page\n",
    "\n",
    "urls = get_allnews_urls(begin_page=1, end_page=3, verbose=True)\n",
    "print('%d urls for all news' % len(urls))"
   ]
  },
  {
   "cell_type": "code",
   "execution_count": 2,
   "metadata": {},
   "outputs": [
    {
     "name": "stdout",
     "output_type": "stream",
     "text": [
      "title : Reports of “Secret” North Korean Missile Bases: Much Ado about Not Much ..\n",
      "time : January 28, 2019 ..\n",
      "content : President Trump and North Korean leader Kim Jong Un have now agreed to meet for their second summit  ..\n",
      "url : https://www.38north.org/2019/01/ddepetris012819/ ..\n",
      "scrap_time : 2019-01-30-04 05:05:21 ..\n",
      "\n",
      "\n",
      "title : Inspector O and the New Cat ..\n",
      "time : January 23, 2019 ..\n",
      "content : I did not know if Inspector O would show up, and so was greatly relieved when I spotted him edging a ..\n",
      "url : https://www.38north.org/2019/01/jchurch012319/ ..\n",
      "scrap_time : 2019-01-30-04 05:05:22 ..\n",
      "\n",
      "\n",
      "title : Why is Kim Yong Chol Still Pyongyang’s Choice for US-DPRK Relations? ..\n",
      "time : January 18, 2019 ..\n",
      "content : Kim Yong Chol has arrived in Washington to meet with Secretary of State Pompeo and President Trump.  ..\n",
      "url : https://www.38north.org/2019/01/svogler011819/ ..\n",
      "scrap_time : 2019-01-30-04 05:05:23 ..\n",
      "\n",
      "\n"
     ]
    }
   ],
   "source": [
    "def pprint(json_object):\n",
    "    for k, v in json_object.items():\n",
    "        print('{} : {} ..'.format(k, str(v)[:100]))\n",
    "    print('\\n')\n",
    "\n",
    "SLEEP = 0.5\n",
    "\n",
    "for url in urls[:3]:\n",
    "    json_object = parse_page(url)\n",
    "    pprint(json_object)"
   ]
  },
  {
   "cell_type": "code",
   "execution_count": 3,
   "metadata": {},
   "outputs": [
    {
     "name": "stdout",
     "output_type": "stream",
     "text": [
      "[1 / 50] (January 28, 2019) Reports of “Secret” North Korean Missile Bases: Much Ado about Not Much\n",
      "[2 / 50] (January 23, 2019) Inspector O and the New Cat\n",
      "[3 / 50] (January 18, 2019) Why is Kim Yong Chol Still Pyongyang’s Choice for US-DPRK Relations?\n",
      "[4 / 50] (January 18, 2019) Advancing Peace and Security on the Korean Peninsula: The Case for Koreanization\n",
      "[5 / 50] (January 28, 2019) Reports of “Secret” North Korean Missile Bases: Much Ado about Not Much\n",
      "[6 / 50] (January 23, 2019) Inspector O and the New Cat\n",
      "[7 / 50] (January 18, 2019) Why is Kim Yong Chol Still Pyongyang’s Choice for US-DPRK Relations?\n",
      "[8 / 50] (January 18, 2019) Advancing Peace and Security on the Korean Peninsula: The Case for Koreanization\n",
      "[9 / 50] (January 16, 2019) Beach Watch: North Korea’s Wonsan Gets a Boost\n",
      "[10 / 50] (January 9, 2019) North Korea’s Yongbyon Nuclear Facilities: Well Maintained but Showing Limited Operations\n",
      "[11 / 50] (January 9, 2019) Kim Jong Un’s New Year’s Speech: On the Domestic Front\n",
      "[12 / 50] (January 8, 2019) Opportunities for Dynamic Force Employment in East Asia\n",
      "[13 / 50] (January 4, 2019) Kim Jong Un’s New Year’s Address: The Art of Propaganda\n",
      "[14 / 50] (January 3, 2019) Hints for 2019: Kim Jong Un’s New Year’s Address\n",
      "[15 / 50] (January 2, 2019) Kim Jong Un’s 2019 New Year’s Address: Dropping a Strategic Bombshell\n",
      "[16 / 50] (December 30, 2018) What Will Kim Jong Un Say on New Year’s Day?\n",
      "[17 / 50] (December 28, 2018) For North Korea, Verifying Requires Reconciling: The Lesson from A Troubled Past—Part II\n",
      "[18 / 50] (December 27, 2018) North Korean Media: KCTV’s Coverage of Kim Jong Un’s Diplomatic Push in 2018\n",
      "[19 / 50] (December 26, 2018) From CVID to CRID: A Russian Perspective\n",
      "[20 / 50] (December 21, 2018) Way Too Much to Do About Nothing\n",
      "[21 / 50] (December 21, 2018) DPRK Repeats Stance on Denuclearization\n",
      "[22 / 50] (December 19, 2018) Rebuttal to Mr. Katzeff Silberstein\n",
      "[23 / 50] (December 18, 2018) Could Peace in Korea Derail?\n",
      "[24 / 50] (December 17, 2018) Pyongyang: Willing to Wait\n",
      "[25 / 50] (December 14, 2018) For North Korea, Verifying Requires Reconciling: The Lesson from A Troubled Past—Part I\n",
      "[26 / 50] (December 12, 2018) North Korea’s Punggye-ri Nuclear Test Site: Current Status and Future Inspections\n",
      "[27 / 50] (December 6, 2018) The Problem With Aid to North Korea is Bigger Than Diversion\n",
      "[28 / 50] (December 4, 2018) North Korea’s Wi-Fi Story: The Mirae is Today\n",
      "[29 / 50] (November 29, 2018) North Korea’s Hwasong-14 ICBM: New Data Indicates Shorter Range Than Many Thought\n",
      "[30 / 50] (November 28, 2018) Why Insisting on a North Korean Nuclear Declaration Up Front is a Big Mistake\n",
      "[31 / 50] (November 28, 2018) Dogs Not Barking: Pyongyang’s Long Silence\n",
      "[32 / 50] (November 19, 2018) Look Before You Tweet: The Perils of Rushing Analysis\n",
      "[33 / 50] (November 16, 2018) North Korea’s Yongbyon Nuclear Scientific Research Center: 5 MWe Reactor Unlikely Operating\n",
      "[34 / 50] (November 16, 2018) Why Korea Needs Peace: A Korean American Perspective\n",
      "[35 / 50] (November 15, 2018) Imagining a New US-South Korean Security Architecture\n",
      "[36 / 50] (November 14, 2018) Is the North Korean Won Pegged to the RMB? Probably, but the Numbers Don’t Show It\n",
      "[37 / 50] (November 13, 2018) The New York Times’ Misleading Story on North Korean Missiles\n",
      "[38 / 50] (November 13, 2018) Pyongyang Warns Again on “Byungjin” Revival\n",
      "[39 / 50] (November 9, 2018) North Korea’s Punggye-ri Nuclear Test Site: Minor Cleanup Activity\n",
      "[40 / 50] (November 8, 2018) North Korea’s Sohae Satellite Launching Station: Low Level Activity Continues\n",
      "[41 / 50] (November 7, 2018) How to Structure Sanctions Relief in Any Future DPRK Deal\n",
      "[42 / 50] (November 5, 2018) Toward a Ban on Deployment and Production of Kim’s Missiles\n",
      "[43 / 50] (November 5, 2018) DPRK Notches Up the Warnings\n",
      "[44 / 50] (November 2, 2018) North Korea’s Uranium Mining and Milling Operations Continue at Pyongsan\n",
      "[45 / 50] (October 26, 2018) Can Abe Solve Japan’s “North Korea” Dilemma?\n",
      "[46 / 50] (October 24, 2018) China’s Potential Role as Security Guarantor for North Korea\n",
      "[47 / 50] (October 23, 2018) The Case for Funding the UN’s Request for Humanitarian Assistance to the DPRK\n",
      "[48 / 50] (October 22, 2018) North Korea Carefully Revs Up Public Warnings to Washington\n",
      "[49 / 50] (October 19, 2018) The Sanctions Effect in North Korea: Observations from Rason\n",
      "[50 / 50] (October 12, 2018) Book Review: “Ask a North Korean: Defectors Talk About Their Lives Inside the World’s Most Secretive Nation”\n",
      "[51 / 50] (October 12, 2018) Book Review: “South Korea at the Crossroads: Autonomy and Alliance in an Era of Rival Powers”\n",
      "[52 / 50] (October 10, 2018) North Korea’s Sohae Satellite Launching Station: Activity at a Launch Pad Fuel/Oxidizer Bunker\n",
      "[53 / 50] (October 9, 2018) Inter-Korean Dialogue and Denuclearization—Will the Twain Shall Meet?\n",
      "[54 / 50] (October 5, 2018) North Korea’s Yongbyon Nuclear Scientific Research Center: Quiet After the Pyongyang Summit\n",
      "[55 / 50] (October 4, 2018) North Korea’s Sohae Satellite Launching Station: No New Dismantlement Activity\n",
      "[56 / 50] (October 4, 2018) 38 North Expands Its Imagery Staff\n",
      "[57 / 50] (October 2, 2018) War with North Korea Would Attack American Workers\n",
      "[58 / 50] (September 25, 2018) In Strong Support of Ambassador Biegun\n",
      "[59 / 50] (September 19, 2018) North and South Korea Take Important Steps to Demilitarize the Korean Peninsula\n",
      "[60 / 50] (September 18, 2018) What President Moon Will See at the Mass Games\n",
      "[61 / 50] (September 17, 2018) Korea at a Crossroads: Time for a US-ROK-DPRK Strategic Realignment\n",
      "[62 / 50] (September 17, 2018) More DPRK Signals on Denuclearization\n",
      "[63 / 50] (September 17, 2018) What Can Moon Jae-in Get Done in Pyongyang?\n",
      "[64 / 50] (September 13, 2018) Are Sanctions Part of the Problem?\n",
      "[65 / 50] (September 12, 2018) Shelter Recently Dismantled at March 16 Factory\n",
      "[66 / 50] (September 11, 2018) Donald Trump’s Instincts Are Mostly Right on North Korea, His Advisors Are the Problem\n",
      "[67 / 50] (September 10, 2018) Kim Jong Un’s New Formulation\n",
      "[68 / 50] (September 7, 2018) Update on Yongbyon: More Dredging Around the Reactor Cooling System; Flooding Tests the Reservoir Dam’s Integrity\n",
      "[69 / 50] (September 7, 2018) Designing A New Peace and Security System in Korea \n",
      "[70 / 50] (September 6, 2018) Inspector O and The Strange Bedfellow\n",
      "[71 / 50] (September 5, 2018) The State of Play in Sino-DPRK Relations\n",
      "[72 / 50] (September 4, 2018) Update on North Korea’s Foundation Day Military Parade Preparations\n",
      "[73 / 50] (August 29, 2018) “All Take, No Give” Won’t Work with North Korea\n",
      "[74 / 50] (August 24, 2018) Update on North Korea’s Foundation Day Military Parade Preparations\n",
      "[75 / 50] (August 22, 2018) Update on North Korea’s Sohae Satellite Launching Station\n",
      "[76 / 50] (August 21, 2018) Kim Jong Un’s Risky Gambit\n",
      "[77 / 50] (August 21, 2018) North Korea’s Foundation Day Parade: Likely to be Larger than the February Army Day Parade\n",
      "[78 / 50] (August 16, 2018) North Korea’s Sinpo South Shipyard: Low Level Activity Continues\n",
      "[79 / 50] (August 9, 2018) North Korea’s Yongbyon Nuclear Scientific Research Center: Work Continues on 5 MWe Reactor’s Cooling System\n",
      "[80 / 50] (August 8, 2018) North Korea’s Economic Policy in 2018 and Beyond: Reforms Inevitable, Delays Possible\n",
      "[81 / 50] (August 7, 2018) More Progress on Dismantling Facilities at the Sohae Satellite Launching Station\n",
      "[82 / 50] (August 3, 2018) Much Ado About Kangson\n",
      "[83 / 50] (August 1, 2018) North Korea and the Internet: Building for the Future\n",
      "[84 / 50] (July 31, 2018) On Dismantlement at the Sohae Space Launch Facility\n",
      "[85 / 50] (July 31, 2018) Victory Over Whom?\n",
      "[86 / 50] (July 27, 2018) A Road Map for Demilitarizing North Korea\n",
      "[87 / 50] (July 26, 2018) How the Media Wove a Narrative of North Korean Nuclear Deception\n",
      "[88 / 50] (July 25, 2018) Expansion of North Korea’s Solid Fuel Ballistic Missile Program: The Eight Year Old Case of the Chemical Materials Institute\n",
      "[89 / 50] (July 23, 2018) North Korea Begins Dismantling Key Facilities at the Sohae Satellite Launching Station\n",
      "[90 / 50] (July 23, 2018) The Washington Post’s Impatient Reporting\n",
      "[91 / 50] (July 18, 2018) Back to the Basics: Above and Beyond CVID with North Korea\n"
     ]
    },
    {
     "name": "stdout",
     "output_type": "stream",
     "text": [
      "[92 / 50] (July 16, 2018) How the North Korean Economy Should—and Shouldn’t—be Used in Negotiations\n",
      "[93 / 50] (July 12, 2018) Putin, Trump and North Korea: The Road to Washington Leads Through Asia\n",
      "[94 / 50] (July 10, 2018) The Singapore Summit in Perspective: Lessons from the Israeli-Arab Conflict\n",
      "[95 / 50] (July 9, 2018) Lessons from the Unhappy History of Verification in North Korea\n",
      "[96 / 50] (July 9, 2018) What the North Koreans Really Said on July 7\n",
      "[97 / 50] (July 6, 2018) North Korea’s Yongbyon Nuclear Research Center: Testing of Reactor Cooling Systems; Construction of Two New Non-Industrial Buildings\n",
      "[98 / 50] (July 6, 2018) Building Trust on the Korean Peninsula: The Role of CBMs in Nuclear Negotiations\n",
      "[99 / 50] (July 3, 2018) 38 North Special Report: Recent Changes in Kim Jong Un’s High Command\n",
      "Stop scrapping. 0 / 50 news was scrapped\n",
      "The oldest news has been created after 2018-07-01\n"
     ]
    }
   ],
   "source": [
    "from N38_scraper import yield_latest_allnews\n",
    "\n",
    "begin_date = '2018-07-01'\n",
    "max_num = 50\n",
    "sleep = 1.0\n",
    "\n",
    "for i, json_obj in enumerate(yield_latest_allnews(begin_date, max_num, sleep)):\n",
    "    title = json_obj['title']\n",
    "    time = json_obj['time']\n",
    "    print('[{} / {}] ({}) {}'.format(i+1, max_num, time, title))"
   ]
  },
  {
   "cell_type": "code",
   "execution_count": null,
   "metadata": {},
   "outputs": [],
   "source": []
  }
 ],
 "metadata": {
  "kernelspec": {
   "display_name": "Python 3",
   "language": "python",
   "name": "python3"
  },
  "language_info": {
   "codemirror_mode": {
    "name": "ipython",
    "version": 3
   },
   "file_extension": ".py",
   "mimetype": "text/x-python",
   "name": "python",
   "nbconvert_exporter": "python",
   "pygments_lexer": "ipython3",
   "version": "3.6.5"
  },
  "varInspector": {
   "cols": {
    "lenName": 16,
    "lenType": 16,
    "lenVar": 40
   },
   "kernels_config": {
    "python": {
     "delete_cmd_postfix": "",
     "delete_cmd_prefix": "del ",
     "library": "var_list.py",
     "varRefreshCmd": "print(var_dic_list())"
    },
    "r": {
     "delete_cmd_postfix": ") ",
     "delete_cmd_prefix": "rm(",
     "library": "var_list.r",
     "varRefreshCmd": "cat(var_dic_list()) "
    }
   },
   "oldHeight": 122.545454,
   "position": {
    "height": "40px",
    "left": "1139.36px",
    "right": "20px",
    "top": "121px",
    "width": "249px"
   },
   "types_to_exclude": [
    "module",
    "function",
    "builtin_function_or_method",
    "instance",
    "_Feature"
   ],
   "varInspector_section_display": "none",
   "window_display": true
  }
 },
 "nbformat": 4,
 "nbformat_minor": 2
}
