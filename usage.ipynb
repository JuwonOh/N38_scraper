{
 "cells": [
  {
   "cell_type": "code",
   "execution_count": 1,
   "metadata": {
    "scrolled": false
   },
   "outputs": [
    {
     "name": "stdout",
     "output_type": "stream",
     "text": [
      "get briefing statement urls 1 / 3\n",
      "get briefing statement urls 2 / 3\n",
      "get briefing statement urls 3 / 3\n",
      "12 urls for all news\n"
     ]
    }
   ],
   "source": [
    "import time\n",
    "import N38_scraper\n",
    "from N38_scraper import get_allnews_urls\n",
    "from N38_scraper import parse_page\n",
    "\n",
    "urls = get_allnews_urls(begin_page=1, end_page=3, verbose=True)\n",
    "print('%d urls for all news' % len(urls))"
   ]
  },
  {
   "cell_type": "code",
   "execution_count": 2,
   "metadata": {
    "scrolled": false
   },
   "outputs": [
    {
     "data": {
      "text/plain": [
       "['https://www.38north.org/2019/01/yongbyon010919/',\n",
       " 'https://www.38north.org/2019/01/gford010919/',\n",
       " 'https://www.38north.org/2019/01/jgilesjsiebens010819/',\n",
       " 'https://www.38north.org/2019/01/mwilliams010419/',\n",
       " 'https://www.38north.org/2019/01/rcarlin010319/',\n",
       " 'https://www.38north.org/2019/01/rfrank010219/',\n",
       " 'https://www.38north.org/2018/12/afostercarter123018/',\n",
       " 'https://www.38north.org/2018/12/lsigal122818/',\n",
       " 'https://www.38north.org/2018/12/mwilliams122718/',\n",
       " 'https://www.38north.org/2018/12/gtoloraya122618/',\n",
       " 'https://www.38north.org/2018/12/editor122118/',\n",
       " 'https://www.38north.org/2018/12/rcarlin122118/']"
      ]
     },
     "execution_count": 2,
     "metadata": {},
     "output_type": "execute_result"
    }
   ],
   "source": [
    "urls"
   ]
  },
  {
   "cell_type": "code",
   "execution_count": 9,
   "metadata": {},
   "outputs": [],
   "source": [
    "import re\n",
    "import requests\n",
    "from bs4 import BeautifulSoup\n",
    "from time import gmtime, strftime\n",
    "\n",
    "\n",
    "def now():\n",
    "    \"\"\"\n",
    "    Returns\n",
    "    -------\n",
    "    Current time : str\n",
    "        eg: 2018-11-22 13:35:23\n",
    "    \"\"\"\n",
    "    return strftime(\"%Y-%m-%d %H:%M:%S\", gmtime())\n",
    "\n",
    "def get_soup(url, headers=None):\n",
    "    \"\"\"\n",
    "    Arguments\n",
    "    ---------\n",
    "    url : str\n",
    "        Web page url\n",
    "    headers : dict\n",
    "        Headers for requests. If None, use Mozilla/5.0 as default user-agent\n",
    "\n",
    "    Returns\n",
    "    -------\n",
    "    soup : bs4.BeautifulSoup\n",
    "        Soup format web page\n",
    "    \"\"\"\n",
    "\n",
    "    if headers is None:\n",
    "        headers = {'User-Agent': 'Mozilla/5.0 (X11; Linux x86_64) AppleWebKit/537.36 (KHTML, like Gecko) Chrome/67.0.3396.99 Safari/537.36'}\n",
    "    r = requests.get(url, headers=headers)\n",
    "    html = r.text\n",
    "    page = BeautifulSoup(html, 'lxml')\n",
    "    return page\n",
    "\n",
    "doublespace_pattern = re.compile('\\s+')\n",
    "lineseparator_pattern = re.compile('\\n+')\n",
    "\n",
    "def normalize_text(text):\n",
    "    text = text.replace('\\t', ' ')\n",
    "    text = text.replace('\\r', ' ')\n",
    "    text = lineseparator_pattern.sub('\\n', text)\n",
    "    text = doublespace_pattern.sub(' ', text)\n",
    "    return text.strip()"
   ]
  },
  {
   "cell_type": "code",
   "execution_count": 10,
   "metadata": {},
   "outputs": [],
   "source": [
    "def parse_page(url):\n",
    "    \"\"\"\n",
    "    Argument\n",
    "    --------\n",
    "    url : str\n",
    "        Web page url\n",
    "\n",
    "    Returns\n",
    "    -------\n",
    "    json_object : dict\n",
    "        JSON format web page contents\n",
    "        It consists with\n",
    "            title : article title\n",
    "            time : article written time\n",
    "            content : text with line separator \\\\n\n",
    "            url : web page url\n",
    "            scrap_time : scrapped time\n",
    "    \"\"\"\n",
    "\n",
    "    try:\n",
    "        soup = get_soup(url)\n",
    "        title = soup.find('h1', class_= 'page-header').text\n",
    "        time = soup.find('ul', class_='post__meta list-inline').find('li', class_='meta--date').text\n",
    "        phrases = soup.find('div', class_='content').find_all('p')\n",
    "        content = '\\n'.join([p.text.strip() for p in phrases])\n",
    "\n",
    "        json_object = {\n",
    "            'title' : title,\n",
    "            'time' : time,\n",
    "            'content' : content,\n",
    "            'url' : url,\n",
    "            'scrap_time' : now()\n",
    "        }\n",
    "        return json_object\n",
    "    except Exception as e:\n",
    "        print(e)\n",
    "        print('Parsing error from {}'.format(url))\n",
    "        return None\n"
   ]
  },
  {
   "cell_type": "code",
   "execution_count": 12,
   "metadata": {},
   "outputs": [
    {
     "name": "stdout",
     "output_type": "stream",
     "text": [
      "title : North Korea’s Yongbyon Nuclear Facilities: Well Maintained but Showing Limited Operations ..\n",
      "time : January 9, 2019 ..\n",
      "content : A 38 North exclusive with analysis by Frank V. Pabian and Jack Liu\n",
      "Commercial satellite imagery of N ..\n",
      "url : https://www.38north.org/2019/01/yongbyon010919/ ..\n",
      "scrap_time : 2019-01-15 12:23:30 ..\n",
      "\n",
      "\n",
      "title : Kim Jong Un’s New Year’s Speech: On the Domestic Front ..\n",
      "time : January 9, 2019 ..\n",
      "content : Commentary on Kim Jong Un’s New Year’s speech on January 1 has understandably focused almost exclusi ..\n",
      "url : https://www.38north.org/2019/01/gford010919/ ..\n",
      "scrap_time : 2019-01-15 12:23:31 ..\n",
      "\n",
      "\n",
      "title : Opportunities for Dynamic Force Employment in East Asia ..\n",
      "time : January 8, 2019 ..\n",
      "content : The United States is at a crossroads with North Korea. It can continue efforts to reduce tensions, s ..\n",
      "url : https://www.38north.org/2019/01/jgilesjsiebens010819/ ..\n",
      "scrap_time : 2019-01-15 12:23:32 ..\n",
      "\n",
      "\n"
     ]
    }
   ],
   "source": [
    "def pprint(json_object):\n",
    "    for k, v in json_object.items():\n",
    "        print('{} : {} ..'.format(k, str(v)[:100]))\n",
    "    print('\\n')\n",
    "\n",
    "SLEEP = 0.5\n",
    "\n",
    "for url in urls[:3]:\n",
    "    json_object = parse_page(url)\n",
    "    pprint(json_object)"
   ]
  }
 ],
 "metadata": {
  "kernelspec": {
   "display_name": "Python 3",
   "language": "python",
   "name": "python3"
  },
  "language_info": {
   "codemirror_mode": {
    "name": "ipython",
    "version": 3
   },
   "file_extension": ".py",
   "mimetype": "text/x-python",
   "name": "python",
   "nbconvert_exporter": "python",
   "pygments_lexer": "ipython3",
   "version": "3.6.5"
  },
  "varInspector": {
   "cols": {
    "lenName": 16,
    "lenType": 16,
    "lenVar": 40
   },
   "kernels_config": {
    "python": {
     "delete_cmd_postfix": "",
     "delete_cmd_prefix": "del ",
     "library": "var_list.py",
     "varRefreshCmd": "print(var_dic_list())"
    },
    "r": {
     "delete_cmd_postfix": ") ",
     "delete_cmd_prefix": "rm(",
     "library": "var_list.r",
     "varRefreshCmd": "cat(var_dic_list()) "
    }
   },
   "oldHeight": 122.545454,
   "position": {
    "height": "40px",
    "left": "1139.36px",
    "right": "20px",
    "top": "121px",
    "width": "249px"
   },
   "types_to_exclude": [
    "module",
    "function",
    "builtin_function_or_method",
    "instance",
    "_Feature"
   ],
   "varInspector_section_display": "none",
   "window_display": true
  }
 },
 "nbformat": 4,
 "nbformat_minor": 2
}
