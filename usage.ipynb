{
 "cells": [
  {
   "cell_type": "code",
   "execution_count": 1,
   "metadata": {
    "scrolled": false
   },
   "outputs": [
    {
     "name": "stdout",
     "output_type": "stream",
     "text": [
      "get briefing statement urls 1 / 4\n",
      "get briefing statement urls 2 / 4\n",
      "get briefing statement urls 3 / 4\n",
      "get briefing statement urls 4 / 4\n",
      "16 urls for all news\n"
     ]
    }
   ],
   "source": [
    "import time\n",
    "import N38_scraper\n",
    "from N38_scraper import get_allnews_urls\n",
    "from N38_scraper import parse_page\n",
    "\n",
    "urls = get_allnews_urls(begin_page=1, end_page=4, verbose=True)\n",
    "print('%d urls for all news' % len(urls))"
   ]
  },
  {
   "cell_type": "code",
   "execution_count": 2,
   "metadata": {},
   "outputs": [
    {
     "data": {
      "text/plain": [
       "'https://www.38north.org/2019/01/wonsan011619/'"
      ]
     },
     "execution_count": 2,
     "metadata": {},
     "output_type": "execute_result"
    }
   ],
   "source": [
    "urls[10]"
   ]
  },
  {
   "cell_type": "code",
   "execution_count": 4,
   "metadata": {
    "scrolled": true
   },
   "outputs": [
    {
     "name": "stdout",
     "output_type": "stream",
     "text": [
      "title : How Vietnam’s Transition Experience May be Helpful for North Korea Today ..\n",
      "time : February 7, 2019 ..\n",
      "author : Bradley O. Babson ..\n",
      "content : The recent visit of the DPRK’s Foreign Minister Ri Yong Ho to Hanoi and the announcement that Vietna ..\n",
      "url : https://www.38north.org/2019/02/bbabson020719/ ..\n",
      "scrap_time : 2019-02-08-05 07:11:03 ..\n",
      "\n",
      "\n",
      "title : Misreporting the Trump Administration’s Boffo Break with the Failed North Korea Policy of the Past ..\n",
      "time : February 5, 2019 ..\n",
      "author : Leon V. Sigal ..\n",
      "content : The US Special Representative for North Korea Stephen R. Biegun broke important new ground on admini ..\n",
      "url : https://www.38north.org/2019/02/lsigal020519/ ..\n",
      "scrap_time : 2019-02-08-05 07:11:04 ..\n",
      "\n",
      "\n",
      "title : China’s Sanctions Enforcement and Fuel Prices in North Korea: What the Data Tells Us ..\n",
      "time : February 1, 2019 ..\n",
      "author : Benjamin Katzeff Silberstein ..\n",
      "content : China is by far North Korea’s largest trading partner, accounting for up to 90 percent of its trade  ..\n",
      "url : https://www.38north.org/2019/02/bkatzeffsilberstein020119/ ..\n",
      "scrap_time : 2019-02-08-05 07:11:05 ..\n",
      "\n",
      "\n"
     ]
    }
   ],
   "source": [
    "def pprint(json_object):\n",
    "    for k, v in json_object.items():\n",
    "        print('{} : {} ..'.format(k, str(v)[:100]))\n",
    "    print('\\n')\n",
    "\n",
    "SLEEP = 0.5\n",
    "\n",
    "for url in urls[:3]:\n",
    "    json_object = parse_page(url)\n",
    "    pprint(json_object)"
   ]
  },
  {
   "cell_type": "code",
   "execution_count": 5,
   "metadata": {
    "scrolled": true
   },
   "outputs": [
    {
     "name": "stdout",
     "output_type": "stream",
     "text": [
      "[1 / 50] (February 7, 2019) How Vietnam’s Transition Experience May be Helpful for North Korea Today\n",
      "[2 / 50] (February 5, 2019) Misreporting the Trump Administration’s Boffo Break with the Failed North Korea Policy of the Past\n",
      "[3 / 50] (February 1, 2019) China’s Sanctions Enforcement and Fuel Prices in North Korea: What the Data Tells Us\n",
      "[4 / 50] (February 1, 2019) Preparing for a “Decent Chance” of Success and Failure with North Korea\n",
      "[5 / 50] (January 31, 2019) Let’s Get Perspective\n",
      "[6 / 50] (January 30, 2019) Why We Should be Skeptical About Recent Reports on North Korea’s Biological Weapons Programs\n",
      "[7 / 50] (January 28, 2019) Reports of “Secret” North Korean Missile Bases: Much Ado about Not Much\n",
      "[8 / 50] (January 23, 2019) Inspector O and the New Cat\n",
      "[9 / 50] (January 18, 2019) Why is Kim Yong Chol Still Pyongyang’s Choice for US-DPRK Relations?\n",
      "[10 / 50] (January 18, 2019) Advancing Peace and Security on the Korean Peninsula: The Case for Koreanization\n",
      "[11 / 50] (January 16, 2019) Beach Watch: North Korea’s Wonsan Gets a Boost\n",
      "[12 / 50] (January 9, 2019) North Korea’s Yongbyon Nuclear Facilities: Well Maintained but Showing Limited Operations\n",
      "[13 / 50] (January 9, 2019) Kim Jong Un’s New Year’s Speech: On the Domestic Front\n",
      "[14 / 50] (January 8, 2019) Opportunities for Dynamic Force Employment in East Asia\n",
      "[15 / 50] (January 4, 2019) Kim Jong Un’s New Year’s Address: The Art of Propaganda\n",
      "[16 / 50] (January 3, 2019) Hints for 2019: Kim Jong Un’s New Year’s Address\n",
      "[17 / 50] (January 2, 2019) Kim Jong Un’s 2019 New Year’s Address: Dropping a Strategic Bombshell\n",
      "[18 / 50] (December 30, 2018) What Will Kim Jong Un Say on New Year’s Day?\n",
      "[19 / 50] (December 28, 2018) For North Korea, Verifying Requires Reconciling: The Lesson from A Troubled Past—Part II\n",
      "[20 / 50] (December 27, 2018) North Korean Media: KCTV’s Coverage of Kim Jong Un’s Diplomatic Push in 2018\n",
      "[21 / 50] (December 26, 2018) From CVID to CRID: A Russian Perspective\n",
      "[22 / 50] (December 21, 2018) Way Too Much to Do About Nothing\n",
      "[23 / 50] (December 21, 2018) DPRK Repeats Stance on Denuclearization\n",
      "[24 / 50] (December 19, 2018) Rebuttal to Mr. Katzeff Silberstein\n",
      "[25 / 50] (December 18, 2018) Could Peace in Korea Derail?\n",
      "[26 / 50] (December 17, 2018) Pyongyang: Willing to Wait\n",
      "[27 / 50] (December 14, 2018) For North Korea, Verifying Requires Reconciling: The Lesson from A Troubled Past—Part I\n",
      "[28 / 50] (December 12, 2018) North Korea’s Punggye-ri Nuclear Test Site: Current Status and Future Inspections\n",
      "[29 / 50] (December 6, 2018) The Problem With Aid to North Korea is Bigger Than Diversion\n",
      "[30 / 50] (December 4, 2018) North Korea’s Wi-Fi Story: The Mirae is Today\n",
      "[31 / 50] (November 29, 2018) North Korea’s Hwasong-14 ICBM: New Data Indicates Shorter Range Than Many Thought\n",
      "[32 / 50] (November 28, 2018) Why Insisting on a North Korean Nuclear Declaration Up Front is a Big Mistake\n",
      "[33 / 50] (November 28, 2018) Dogs Not Barking: Pyongyang’s Long Silence\n",
      "[34 / 50] (November 19, 2018) Look Before You Tweet: The Perils of Rushing Analysis\n",
      "[35 / 50] (November 16, 2018) North Korea’s Yongbyon Nuclear Scientific Research Center: 5 MWe Reactor Unlikely Operating\n",
      "[36 / 50] (November 16, 2018) Why Korea Needs Peace: A Korean American Perspective\n",
      "[37 / 50] (November 15, 2018) Imagining a New US-South Korean Security Architecture\n",
      "[38 / 50] (November 14, 2018) Is the North Korean Won Pegged to the RMB? Probably, but the Numbers Don’t Show It\n",
      "[39 / 50] (November 13, 2018) The New York Times’ Misleading Story on North Korean Missiles\n",
      "[40 / 50] (November 13, 2018) Pyongyang Warns Again on “Byungjin” Revival\n",
      "[41 / 50] (November 9, 2018) North Korea’s Punggye-ri Nuclear Test Site: Minor Cleanup Activity\n",
      "[42 / 50] (November 8, 2018) North Korea’s Sohae Satellite Launching Station: Low Level Activity Continues\n",
      "[43 / 50] (November 7, 2018) How to Structure Sanctions Relief in Any Future DPRK Deal\n",
      "[44 / 50] (November 5, 2018) Toward a Ban on Deployment and Production of Kim’s Missiles\n",
      "[45 / 50] (November 5, 2018) DPRK Notches Up the Warnings\n",
      "[46 / 50] (November 2, 2018) North Korea’s Uranium Mining and Milling Operations Continue at Pyongsan\n",
      "[47 / 50] (October 26, 2018) Can Abe Solve Japan’s “North Korea” Dilemma?\n",
      "[48 / 50] (October 24, 2018) China’s Potential Role as Security Guarantor for North Korea\n",
      "[49 / 50] (October 23, 2018) The Case for Funding the UN’s Request for Humanitarian Assistance to the DPRK\n",
      "[50 / 50] (October 22, 2018) North Korea Carefully Revs Up Public Warnings to Washington\n"
     ]
    }
   ],
   "source": [
    "from N38_scraper import yield_latest_allnews\n",
    "\n",
    "begin_date = '2018-07-01'\n",
    "max_num = 50\n",
    "sleep = 1.0\n",
    "\n",
    "for i, json_obj in enumerate(yield_latest_allnews(begin_date, max_num, sleep)):\n",
    "    title = json_obj['title']\n",
    "    time = json_obj['time']\n",
    "    print('[{} / {}] ({}) {}'.format(i+1, max_num, time, title))"
   ]
  }
 ],
 "metadata": {
  "kernelspec": {
   "display_name": "Python 3",
   "language": "python",
   "name": "python3"
  },
  "language_info": {
   "codemirror_mode": {
    "name": "ipython",
    "version": 3
   },
   "file_extension": ".py",
   "mimetype": "text/x-python",
   "name": "python",
   "nbconvert_exporter": "python",
   "pygments_lexer": "ipython3",
   "version": "3.7.1"
  },
  "varInspector": {
   "cols": {
    "lenName": 16,
    "lenType": 16,
    "lenVar": 40
   },
   "kernels_config": {
    "python": {
     "delete_cmd_postfix": "",
     "delete_cmd_prefix": "del ",
     "library": "var_list.py",
     "varRefreshCmd": "print(var_dic_list())"
    },
    "r": {
     "delete_cmd_postfix": ") ",
     "delete_cmd_prefix": "rm(",
     "library": "var_list.r",
     "varRefreshCmd": "cat(var_dic_list()) "
    }
   },
   "oldHeight": 122.545454,
   "position": {
    "height": "40px",
    "left": "1139.36px",
    "right": "20px",
    "top": "121px",
    "width": "249px"
   },
   "types_to_exclude": [
    "module",
    "function",
    "builtin_function_or_method",
    "instance",
    "_Feature"
   ],
   "varInspector_section_display": "none",
   "window_display": true
  }
 },
 "nbformat": 4,
 "nbformat_minor": 2
}
